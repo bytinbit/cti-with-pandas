{
 "cells": [
  {
   "cell_type": "markdown",
   "id": "4331b0f0-e212-47a6-8701-ae8d59aff9ed",
   "metadata": {},
   "source": [
    "# Heatmap in Python using pandas and seaborn\n",
    "\n",
    "Install requirements:"
   ]
  },
  {
   "cell_type": "code",
   "execution_count": null,
   "id": "cb2b7281-7ffc-42cd-ba01-8558729fad04",
   "metadata": {},
   "outputs": [],
   "source": [
    "%pip install ipympl pandas seaborn matplotlib"
   ]
  },
  {
   "cell_type": "markdown",
   "id": "6a7241d6-7897-4fbd-a0e0-e181fe854482",
   "metadata": {},
   "source": [
    "Generate some data: an ID for the row, some date range and a random selection of Chinese zodiacs because I'm still a Sinologist at heart. This boilerplate code was generated with GenAI."
   ]
  },
  {
   "cell_type": "code",
   "execution_count": null,
   "id": "c982d699-f9b6-4e3b-95fa-a793c79c97e1",
   "metadata": {},
   "outputs": [],
   "source": [
    "import seaborn as sns\n",
    "import matplotlib.pyplot as plt\n",
    "import pandas as pd\n",
    "import numpy as np\n",
    "import random\n",
    "\n",
    "# Column 1: Sequential enumeration of ints\n",
    "ids = list(range(1, 101))\n",
    "\n",
    "# Column 2: Date range with repeated entries in \"MM-YYYY\" format\n",
    "dates = [\"01-2023\", \"02-2023\", \"03-2023\", \"04-2023\", \"05-2023\", \"06-2023\", \"07-2023\"]\n",
    "date_range = [random.choice(dates) for _ in range(100)]\n",
    "\n",
    "# Column 3: Values from the specified range\n",
    "animals = [\"snake\", \"dragon\", \"unknown\", \"tiger\", \"monkey\", \"rabbit\"]\n",
    "animal_values = [random.choice(animals) for _ in range(100)]\n",
    "\n",
    "# Create DataFrame\n",
    "df = pd.DataFrame({\n",
    "    'ID': ids,\n",
    "    'Date': date_range,\n",
    "    'Zodiac': animal_values\n",
    "})\n",
    "df"
   ]
  },
  {
   "cell_type": "markdown",
   "id": "447f6fd3-933b-4b45-bb13-971d89613dbc",
   "metadata": {},
   "source": [
    "Create a pivot table that correlates dates with zodiac signs and counts occurrences."
   ]
  },
  {
   "cell_type": "code",
   "execution_count": null,
   "id": "8073cfc1-428e-425a-b073-12c5bffadeec",
   "metadata": {},
   "outputs": [],
   "source": [
    "animal_per_month = df.pivot_table(index=\"Date\", columns=\"Zodiac\", aggfunc=\"size\", fill_value=0)\n",
    "groups = animal_per_month.columns.tolist()\n",
    "animal_per_month = animal_per_month.reindex(columns=groups)\n",
    "animal_per_month"
   ]
  },
  {
   "cell_type": "markdown",
   "id": "2c994da0-afaf-4ed3-9d45-1537d040c453",
   "metadata": {},
   "source": [
    "Create grand totals for rows and columns:"
   ]
  },
  {
   "cell_type": "code",
   "execution_count": null,
   "id": "bcec35ef-c923-43f3-af71-b0ecf64d9e73",
   "metadata": {},
   "outputs": [],
   "source": [
    "grand_total = animal_per_month.copy()\n",
    "grand_total.loc[\"Grand Total\"] = animal_per_month.sum(axis=0)\n",
    "grand_total[\"Grand Total\"] = animal_per_month.sum(axis=1)\n",
    "grand_total"
   ]
  },
  {
   "cell_type": "markdown",
   "id": "c154947c-87d4-4f81-92a2-4e66b305283c",
   "metadata": {},
   "source": [
    "Now comes the tricky part: Create a mask so the grand total row and column are not used when creating the heatmap."
   ]
  },
  {
   "cell_type": "code",
   "execution_count": null,
   "id": "47dfbc0f-69dc-4274-8a18-e9ce38aeebe3",
   "metadata": {},
   "outputs": [],
   "source": [
    "mask = np.zeros(grand_total.shape)\n",
    "mask[-1, :] = True  # mask the Grand Total row\n",
    "mask[:, -1] = True  # mask the Grand Total column\n",
    "mask"
   ]
  },
  {
   "cell_type": "markdown",
   "id": "7e98b01f-9ff8-4f5d-ba7b-1eb28665704d",
   "metadata": {},
   "source": [
    "Generate the heatmap by overlaying two heatmaps, one with the grand totals as mask, one with the actual data."
   ]
  },
  {
   "cell_type": "code",
   "execution_count": null,
   "id": "ded1cb0e-155d-4586-b692-e432e5f55b24",
   "metadata": {},
   "outputs": [],
   "source": [
    "# solution based on Khalil Al Hooti here: https://stackoverflow.com/questions/53606027/exclude-a-column-from-seaborn-heatmap-formatting-but-keep-in-the-map\n",
    "sns.heatmap(grand_total, mask=mask, cmap=\"RdYlGn_r\", cbar=False)\n",
    "sns.heatmap(grand_total, alpha=0, cbar=False, annot=True, cmap=\"RdYlGn_r\", annot_kws={\"size\": 10, \"color\":\"k\"})\n",
    "plt.tight_layout()\n",
    "plt.show()\n"
   ]
  }
 ],
 "metadata": {
  "kernelspec": {
   "display_name": "venv",
   "language": "python",
   "name": "venv"
  },
  "language_info": {
   "codemirror_mode": {
    "name": "ipython",
    "version": 3
   },
   "file_extension": ".py",
   "mimetype": "text/x-python",
   "name": "python",
   "nbconvert_exporter": "python",
   "pygments_lexer": "ipython3",
   "version": "3.12.3"
  }
 },
 "nbformat": 4,
 "nbformat_minor": 5
}
