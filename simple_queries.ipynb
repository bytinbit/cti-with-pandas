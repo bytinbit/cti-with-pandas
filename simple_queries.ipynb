{
 "cells": [
  {
   "cell_type": "markdown",
   "id": "66a94e03-ec72-4533-9233-795db5526df3",
   "metadata": {},
   "source": [
    "# Simple Excel Queries in Pandas\n",
    "\n",
    "Install requirements:"
   ]
  },
  {
   "cell_type": "code",
   "execution_count": null,
   "id": "dadb17c2-5276-4c28-9318-a96d7a7eba01",
   "metadata": {},
   "outputs": [],
   "source": [
    "%pip install pandas"
   ]
  },
  {
   "cell_type": "markdown",
   "id": "14471721-88de-4685-8409-db5c291c403e",
   "metadata": {},
   "source": [
    "Generate some random data."
   ]
  },
  {
   "cell_type": "code",
   "execution_count": null,
   "id": "4e7054d7-5442-4c43-8e4c-0b027e1c392c",
   "metadata": {},
   "outputs": [],
   "source": [
    "import pandas as pd\n",
    "import random\n",
    "\n",
    "# Column 1: Month\n",
    "months = [\"january\", \"february\", \"march\", \"april\", \"may\", \"june\"]\n",
    "month_values = [random.choice(months) for _ in range(60)]\n",
    "\n",
    "# Column 2: Time sold (HH:MM)\n",
    "time_values = [f\"{random.randint(0, 23):02d}:{random.randint(0, 59):02d}\" for _ in range(60)]\n",
    "\n",
    "# Column 3: Cheese type\n",
    "cheese_types = [\"emmentaler\", \"gruyère\", \"sbrinz\", \"tilsiter\", \"appenzeller\"]\n",
    "cheese_values = [random.choice(cheese_types) for _ in range(60)]\n",
    "\n",
    "# Column 4: State\n",
    "states = [\"sold\", \"in storage\", \"in preparation\"]\n",
    "state_values = [random.choice(states) for _ in range(60)]\n",
    "\n",
    "# Create DataFrame\n",
    "df = pd.DataFrame({\n",
    "    'Month': month_values,\n",
    "    'Time Sold': time_values,\n",
    "    'Cheese Type': cheese_values,\n",
    "    'State': state_values\n",
    "})\n",
    "\n",
    "# Display DataFrame\n",
    "df.head()"
   ]
  },
  {
   "cell_type": "markdown",
   "id": "6bc06f09-943e-41d1-8403-205c876ba5e0",
   "metadata": {},
   "source": [
    "Which was the month with the highest sale and latest time sold?"
   ]
  },
  {
   "cell_type": "code",
   "execution_count": null,
   "id": "4223a057-4d07-4f60-823e-cc7174feb65d",
   "metadata": {},
   "outputs": [],
   "source": [
    "sorted_df = df.sort_values(by=[\"Month\", \"Time Sold\"], ascending=[True, False], na_position=\"last\")\n",
    "sorted_df.iloc[0]"
   ]
  },
  {
   "cell_type": "markdown",
   "id": "88deb84a-4977-485d-84ca-6a3033953ed9",
   "metadata": {},
   "source": [
    "What was the month with the highest sales?"
   ]
  },
  {
   "cell_type": "code",
   "execution_count": null,
   "id": "d082684c-0e46-4e06-b6c4-3a470f0c4316",
   "metadata": {},
   "outputs": [],
   "source": [
    "weekday_counts = df.groupby('Month').size().reset_index(name='count').sort_values(by=\"Month\", ascending=False)\n",
    "weekday_counts.iloc[0]"
   ]
  },
  {
   "cell_type": "markdown",
   "id": "e6b779cd-cfc1-4e98-9f6f-1f4e7c71c251",
   "metadata": {},
   "source": [
    "# Search Data\n",
    "\n",
    "Generate some random data first. The IP addresses are from the official test range in [RFC5735](https://datatracker.ietf.org/doc/html/rfc5735)."
   ]
  },
  {
   "cell_type": "code",
   "execution_count": null,
   "id": "49c7613a-d7ba-457c-944b-f5ede3347735",
   "metadata": {},
   "outputs": [],
   "source": [
    "import pandas as pd\n",
    "\n",
    "data = {\n",
    "    \"IP Address\": [\n",
    "        \"203.0.113.102\", \"203.0.113.42whoopsie\", \"203.0.113.40\", \"203.0.113.13\", \n",
    "        \"203.0.113.6\", \"203.0.113.42\", \"203.0.113.241\", \"203.0.113.160\", \n",
    "        \"203.0.113.238\", \"203.0.113.220\", \"203.0.113.202\", \"203.0.113.166\", \n",
    "        \"203.0.113.0\", \"203.0.113.117\", \"203.0.113.206\", \"203.0.113.189\", \n",
    "        \"203.0.113.129\", \"203.0.113.140\", \"203.0.113.166\", \"203.0.113.126\"\n",
    "    ],\n",
    "    \"Password\": [\n",
    "        \"12345\", \"qwerty\", \"password\", \"12345\", \"qwerty\", \"123456789\", \n",
    "        \"123456\", \"password\", \"12345\", \"qwerty\", \"password\", \"123456789\", \n",
    "        \"password\", \"qwerty\", \"password\", \"password\", \"12345\", \"qwerty\", \n",
    "        \"123456\", \"12345678\"\n",
    "    ],\n",
    "    \"Username\": [\n",
    "        \"admin\", \"pwn\", \"toor\", \"pwn\", \"god\", \"admin\", \"toor\", \"pwn\", \n",
    "        \"admin\", \"god\", \"pwn\", \"admin\", \"admin\", \"toor\", \"god\", \"admin\", \n",
    "        \"toor\", \"pwn\", \"god\", \"god\"\n",
    "    ]\n",
    "}\n",
    "\n",
    "df = pd.DataFrame(data)\n",
    "df"
   ]
  },
  {
   "cell_type": "markdown",
   "id": "e70e8ae3-7944-45db-a83c-36a592bcbff4",
   "metadata": {},
   "source": [
    "Search for an IP address, first with equals."
   ]
  },
  {
   "cell_type": "code",
   "execution_count": null,
   "id": "882fb545-f8a4-4b61-a856-9f3ff7caf132",
   "metadata": {},
   "outputs": [],
   "source": [
    "filtered_df = df.loc[df[\"IP Address\"] == \"203.0.113.42\"]\n",
    "filtered_df"
   ]
  },
  {
   "cell_type": "markdown",
   "id": "0e8cd6f4-e79b-4600-a8a4-81f7b2c8f8a2",
   "metadata": {},
   "source": [
    "Now do a substring match."
   ]
  },
  {
   "cell_type": "code",
   "execution_count": null,
   "id": "e1c20f3a-a4e4-47d0-87e1-c356d9bea3c0",
   "metadata": {},
   "outputs": [],
   "source": [
    "filtered_df = df.loc[df[\"IP Address\"].str.contains(\"203.0.113.42\", na=False)]\n",
    "filtered_df"
   ]
  },
  {
   "cell_type": "markdown",
   "id": "a21e33a3-c39d-4bcb-818d-2e34b468cfaa",
   "metadata": {},
   "source": [
    "Count the two most common passwords."
   ]
  },
  {
   "cell_type": "code",
   "execution_count": null,
   "id": "a66368eb-d205-4067-a059-106e1295459f",
   "metadata": {},
   "outputs": [],
   "source": [
    "counted_passwords = df[\"Password\"].value_counts().head(2)\n",
    "counted_passwords"
   ]
  },
  {
   "cell_type": "markdown",
   "id": "0998c148-dead-4cff-9cd1-5bbae43c757a",
   "metadata": {},
   "source": [
    "Search for an IP address across the whole data frame."
   ]
  },
  {
   "cell_type": "code",
   "execution_count": null,
   "id": "afbc21a2-fa05-4f56-a027-9cbf0ab8b307",
   "metadata": {},
   "outputs": [],
   "source": [
    "searched = df[df.apply(lambda row: row.astype(str).str.contains(\"203.0.113.0\", na=False, case=False).any(), axis=1)]\n",
    "searched"
   ]
  },
  {
   "cell_type": "markdown",
   "id": "1d3f0749-8101-486f-9d1b-71910d71b86f",
   "metadata": {},
   "source": [
    "Search in the username column either for `god` or `toor` then print out the corresponding password."
   ]
  },
  {
   "cell_type": "code",
   "execution_count": null,
   "id": "bb302e6e-d14c-4eb0-ba39-3b5dd0be52ad",
   "metadata": {},
   "outputs": [],
   "source": [
    "pw = df.loc[df[\"Username\"].str.contains(\"god|toor\", na=False)][\"Password\"]\n",
    "pw"
   ]
  }
 ],
 "metadata": {
  "kernelspec": {
   "display_name": "venv",
   "language": "python",
   "name": "venv"
  },
  "language_info": {
   "codemirror_mode": {
    "name": "ipython",
    "version": 3
   },
   "file_extension": ".py",
   "mimetype": "text/x-python",
   "name": "python",
   "nbconvert_exporter": "python",
   "pygments_lexer": "ipython3",
   "version": "3.12.3"
  }
 },
 "nbformat": 4,
 "nbformat_minor": 5
}
